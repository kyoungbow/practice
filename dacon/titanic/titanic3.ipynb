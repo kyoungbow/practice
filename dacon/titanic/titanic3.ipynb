{
 "cells": [
  {
   "cell_type": "code",
   "execution_count": 14,
   "id": "a13ab9cc",
   "metadata": {},
   "outputs": [],
   "source": [
    "import pandas as pd\n",
    "import numpy as np\n",
    "\n",
    "from sklearn.preprocessing import LabelEncoder\n",
    "from sklearn.model_selection import KFold\n",
    "\n",
    "import torch\n",
    "from pytorch_tabnet.pretraining import TabNetPretrainer\n",
    "from pytorch_tabnet.tab_model import TabNetRegressor\n",
    "\n",
    "from sklearn.linear_model import LinearRegression\n",
    "from sklearn.model_selection import train_test_split"
   ]
  },
  {
   "cell_type": "code",
   "execution_count": 15,
   "id": "2c4d7c90",
   "metadata": {},
   "outputs": [],
   "source": [
    "train = pd.read_csv('data_files/train.csv')\n",
    "test = pd.read_csv('data_files/test.csv')\n",
    "sample_submission = pd.read_csv('data_files/sample_submission.csv')"
   ]
  },
  {
   "cell_type": "code",
   "execution_count": 16,
   "id": "dfb5f892",
   "metadata": {},
   "outputs": [],
   "source": [
    "train = train.drop(columns=['ID'], axis = 1)\n",
    "test = test.drop(columns=['ID'], axis = 1)"
   ]
  },
  {
   "cell_type": "code",
   "execution_count": null,
   "id": "8b71cdc7",
   "metadata": {},
   "outputs": [],
   "source": [
    "train['설립연도'] =train['설립연도'].astype('object')\n",
    "test['설립연도'] =test['설립연도'].astype('object')\n",
    "\n",
    "category_features = ['설립연도','국가','분야','투자단계','기업가치(백억원)']\n",
    "numeric_features = ['직원 수','고객수(백만명)','총 투자금(억원)','연매출(억원)','SNS 팔로워 수(백만명)']\n",
    "bool_features = ['인수여부','상장여부']\n",
    "\n",
    "encoders = {}\n",
    "\n",
    "# 불리언 값을 0과 1로 변환 ('Yes' → 1, 'No' → 0 으로 변환)\n",
    "bool_map = {'Yes': 1, 'No': 0}\n",
    "\n",
    "for feature in bool_features:\n",
    "    train[feature] = train[feature].map(bool_map)\n",
    "    test[feature] = test[feature].map(bool_map)\n",
    "\n",
    "# # 범주형 데이터를 encoding\n",
    "# for feature in category_features:\n",
    "#     encoders[feature] = LabelEncoder()\n",
    "#     train[feature] = train[feature].fillna('Missing')\n",
    "#     test[feature] = test[feature].fillna('Missing')\n",
    "#     train[feature] = encoders[feature].fit_transform(train[feature])\n",
    "#     test[feature] = encoders[feature].transform(test[feature])\n",
    "\n",
    "# # 수치형 변수 결측치를 평균값으로 대체\n",
    "# for feature in numeric_features:\n",
    "#     mean_value = train[feature].mean()\n",
    "#     train[feature] = train[feature].fillna(mean_value)\n",
    "#     test[feature] = test[feature].fillna(mean_value)\n",
    "\n",
    "# # TabNet용 범주형 변수 인덱스(cat_idxs) 및 차원(cat_dims) 설정\n",
    "# features = [col for col in train.columns if col != '성공확률']\n",
    "# cat_idxs = [features.index(col) for col in category_features]\n",
    "# cat_dims = [train[col].max() + 1 for col in category_features]"
   ]
  },
  {
   "cell_type": "code",
   "execution_count": 19,
   "id": "9e634b20",
   "metadata": {},
   "outputs": [
    {
     "name": "stderr",
     "output_type": "stream",
     "text": [
      "C:\\Users\\human\\AppData\\Local\\Temp\\ipykernel_5928\\1969348109.py:22: SettingWithCopyWarning: \n",
      "A value is trying to be set on a copy of a slice from a DataFrame.\n",
      "Try using .loc[row_indexer,col_indexer] = value instead\n",
      "\n",
      "See the caveats in the documentation: https://pandas.pydata.org/pandas-docs/stable/user_guide/indexing.html#returning-a-view-versus-a-copy\n",
      "  test_data['직원 수'] = test_data['직원 수'].fillna(train_data['직원 수'].mean())\n"
     ]
    }
   ],
   "source": [
    "train_data = train.dropna(subset=['기업가치(백억원)'])\n",
    "def convert_value(value):\n",
    "    # '이상'이 포함되면 6000으로 처리\n",
    "    if isinstance(value, str):\n",
    "        if '이상' in value:\n",
    "            return 6000  # 6000이상 -> 6000으로 처리\n",
    "        elif '-' in value:  # 범위값 처리\n",
    "            start, end = value.split('-')\n",
    "            return (float(start) + float(end)) / 2  # 범위의 평균값 처리\n",
    "    return float(value)  # 그 외 숫자값 그대로 반환\n",
    "\n",
    "# '기업가치(백억원)'에 적용\n",
    "train['기업가치(백억원)'] = train['기업가치(백억원)'].apply(convert_value)\n",
    "\n",
    "X = train_data[['총 투자금(억원)', '연매출(억원)', '직원 수', '설립연도']]  # 필요한 입력값\n",
    "y = train_data['기업가치(백억원)']  # 예측할 값\n",
    "\n",
    "model = LinearRegression()\n",
    "model.fit(X, y)\n",
    "\n",
    "test_data = train[train['기업가치(백억원)'].isna()]\n",
    "test_data['직원 수'] = test_data['직원 수'].fillna(train_data['직원 수'].mean())\n",
    "X_test = test_data[['총 투자금(억원)', '연매출(억원)', '직원 수', '설립연도']]\n",
    "\n",
    "y_pred = model.predict(X_test)\n",
    "\n",
    "# 5. 예측한 값 채우기\n",
    "train.loc[train['기업가치(백억원)'].isna(), '기업가치(백억원)'] = y_pred\n",
    "\n"
   ]
  },
  {
   "cell_type": "code",
   "execution_count": 20,
   "id": "320a8ca2",
   "metadata": {},
   "outputs": [
    {
     "name": "stderr",
     "output_type": "stream",
     "text": [
      "C:\\Users\\human\\AppData\\Local\\Temp\\ipykernel_5928\\1424178532.py:22: SettingWithCopyWarning: \n",
      "A value is trying to be set on a copy of a slice from a DataFrame.\n",
      "Try using .loc[row_indexer,col_indexer] = value instead\n",
      "\n",
      "See the caveats in the documentation: https://pandas.pydata.org/pandas-docs/stable/user_guide/indexing.html#returning-a-view-versus-a-copy\n",
      "  test_data['직원 수'] = test_data['직원 수'].fillna(train['직원 수'].mean())\n"
     ]
    }
   ],
   "source": [
    "test_data = test.dropna(subset=['기업가치(백억원)'])\n",
    "\n",
    "# '기업가치(백억원)'에 범위나 조건 처리 적용\n",
    "\n",
    "def convert_value(value):\n",
    "    # '이상'이 포함되면 6000으로 처리\n",
    "    if isinstance(value, str):\n",
    "        if '이상' in value:\n",
    "            return 6000  # 6000이상 -> 6000으로 처리\n",
    "        elif '-' in value:  # 범위값 처리\n",
    "            start, end = value.split('-')\n",
    "            return (float(start) + float(end)) / 2  # 범위의 평균값 처리\n",
    "    return float(value)  # 그 외 숫자값 그대로 반환\n",
    "\n",
    "test['기업가치(백억원)'] = test['기업가치(백억원)'].apply(convert_value)\n",
    "\n",
    "\n",
    "# test 데이터에서 '기업가치(백억원)'이 NaN인 행 찾기\n",
    "test_data = test[test['기업가치(백억원)'].isna()]\n",
    "\n",
    "# '직원 수' NaN 값 채우기 (train의 평균값으로)\n",
    "test_data['직원 수'] = test_data['직원 수'].fillna(train['직원 수'].mean())\n",
    "\n",
    "# 예측을 위한 X_test\n",
    "X_test = test_data[['총 투자금(억원)', '연매출(억원)', '직원 수', '설립연도']]\n",
    "\n",
    "# 예측값 계산\n",
    "y_pred = model.predict(X_test)\n",
    "\n",
    "# 예측한 값 채우기\n",
    "test.loc[test['기업가치(백억원)'].isna(), '기업가치(백억원)'] = y_pred"
   ]
  },
  {
   "cell_type": "code",
   "execution_count": 24,
   "id": "467402c5",
   "metadata": {},
   "outputs": [
    {
     "data": {
      "text/plain": [
       "0       2000.000000\n",
       "1       4122.880997\n",
       "2       6000.000000\n",
       "3       2000.000000\n",
       "4       4111.128008\n",
       "           ...     \n",
       "1750    2000.000000\n",
       "1751    5250.000000\n",
       "1752    2000.000000\n",
       "1753    5250.000000\n",
       "1754    3954.796522\n",
       "Name: 기업가치(백억원), Length: 1755, dtype: float64"
      ]
     },
     "execution_count": 24,
     "metadata": {},
     "output_type": "execute_result"
    }
   ],
   "source": [
    "train['기업가치(백억원)']\n",
    "test['기업가치(백억원)']"
   ]
  },
  {
   "cell_type": "code",
   "execution_count": 25,
   "id": "2afe3003",
   "metadata": {},
   "outputs": [],
   "source": [
    "def categorize_value(x):\n",
    "    if 2500 <= x < 3500:\n",
    "        return '2500-3500'\n",
    "    elif 3500 <= x < 4500:\n",
    "        return '3500-4500'\n",
    "    elif 1500 <= x < 2500:\n",
    "        return '1500-2500'\n",
    "    elif 4500 <= x < 6000:\n",
    "        return '4500-6000'\n",
    "    elif x >= 6000:\n",
    "        return '6000이상'\n",
    "\n",
    "# 적용\n",
    "train['기업가치(백억원)'] = train['기업가치(백억원)'].apply(categorize_value)\n",
    "test['기업가치(백억원)'] = test['기업가치(백억원)'].apply(categorize_value)"
   ]
  },
  {
   "cell_type": "code",
   "execution_count": 26,
   "id": "68a05ecc",
   "metadata": {},
   "outputs": [
    {
     "name": "stderr",
     "output_type": "stream",
     "text": [
      "C:\\Users\\human\\AppData\\Local\\Temp\\ipykernel_5928\\1104281221.py:4: FutureWarning: Downcasting object dtype arrays on .fillna, .ffill, .bfill is deprecated and will change in a future version. Call result.infer_objects(copy=False) instead. To opt-in to the future behavior, set `pd.set_option('future.no_silent_downcasting', True)`\n",
      "  train[feature] = train[feature].fillna('Missing')\n",
      "C:\\Users\\human\\AppData\\Local\\Temp\\ipykernel_5928\\1104281221.py:5: FutureWarning: Downcasting object dtype arrays on .fillna, .ffill, .bfill is deprecated and will change in a future version. Call result.infer_objects(copy=False) instead. To opt-in to the future behavior, set `pd.set_option('future.no_silent_downcasting', True)`\n",
      "  test[feature] = test[feature].fillna('Missing')\n"
     ]
    }
   ],
   "source": [
    " # 범주형 데이터를 encoding\n",
    "for feature in category_features:\n",
    "    encoders[feature] = LabelEncoder()\n",
    "    train[feature] = train[feature].fillna('Missing')\n",
    "    test[feature] = test[feature].fillna('Missing')\n",
    "    train[feature] = encoders[feature].fit_transform(train[feature])\n",
    "    test[feature] = encoders[feature].transform(test[feature])\n",
    "\n",
    "# 수치형 변수 결측치를 평균값으로 대체\n",
    "for feature in numeric_features:\n",
    "    mean_value = train[feature].mean()\n",
    "    train[feature] = train[feature].fillna(mean_value)\n",
    "    test[feature] = test[feature].fillna(mean_value)\n",
    "\n",
    "# TabNet용 범주형 변수 인덱스(cat_idxs) 및 차원(cat_dims) 설정\n",
    "features = [col for col in train.columns if col != '성공확률']\n",
    "cat_idxs = [features.index(col) for col in category_features]\n",
    "cat_dims = [train[col].max() + 1 for col in category_features]"
   ]
  },
  {
   "cell_type": "code",
   "execution_count": 27,
   "id": "e22d46f2",
   "metadata": {},
   "outputs": [
    {
     "name": "stdout",
     "output_type": "stream",
     "text": [
      "\n",
      "🔁 Fold 1/5\n",
      "▶ Pretraining...\n"
     ]
    },
    {
     "name": "stderr",
     "output_type": "stream",
     "text": [
      "d:\\apps\\miniconda3\\envs\\conda-env-311\\Lib\\site-packages\\pytorch_tabnet\\abstract_model.py:687: UserWarning: No early stopping will be performed, last training weights will be used.\n",
      "  warnings.warn(wrn_msg)\n"
     ]
    },
    {
     "name": "stdout",
     "output_type": "stream",
     "text": [
      "▶ Fine-tuning...\n"
     ]
    },
    {
     "name": "stderr",
     "output_type": "stream",
     "text": [
      "d:\\apps\\miniconda3\\envs\\conda-env-311\\Lib\\site-packages\\pytorch_tabnet\\abstract_model.py:248: UserWarning: Loading weights from unsupervised pretraining\n",
      "  warnings.warn(\"Loading weights from unsupervised pretraining\")\n"
     ]
    },
    {
     "name": "stdout",
     "output_type": "stream",
     "text": [
      "\n",
      "Early stopping occurred at epoch 26 with best_epoch = 16 and best_val_0_mae = 0.20484\n",
      "\n",
      "🔁 Fold 2/5\n",
      "▶ Pretraining...\n"
     ]
    },
    {
     "name": "stderr",
     "output_type": "stream",
     "text": [
      "d:\\apps\\miniconda3\\envs\\conda-env-311\\Lib\\site-packages\\pytorch_tabnet\\callbacks.py:172: UserWarning: Best weights from best epoch are automatically used!\n",
      "  warnings.warn(wrn_msg)\n",
      "d:\\apps\\miniconda3\\envs\\conda-env-311\\Lib\\site-packages\\pytorch_tabnet\\abstract_model.py:687: UserWarning: No early stopping will be performed, last training weights will be used.\n",
      "  warnings.warn(wrn_msg)\n"
     ]
    },
    {
     "name": "stdout",
     "output_type": "stream",
     "text": [
      "▶ Fine-tuning...\n"
     ]
    },
    {
     "name": "stderr",
     "output_type": "stream",
     "text": [
      "d:\\apps\\miniconda3\\envs\\conda-env-311\\Lib\\site-packages\\pytorch_tabnet\\abstract_model.py:248: UserWarning: Loading weights from unsupervised pretraining\n",
      "  warnings.warn(\"Loading weights from unsupervised pretraining\")\n"
     ]
    },
    {
     "name": "stdout",
     "output_type": "stream",
     "text": [
      "\n",
      "Early stopping occurred at epoch 33 with best_epoch = 23 and best_val_0_mae = 0.20731\n",
      "\n",
      "🔁 Fold 3/5\n",
      "▶ Pretraining...\n"
     ]
    },
    {
     "name": "stderr",
     "output_type": "stream",
     "text": [
      "d:\\apps\\miniconda3\\envs\\conda-env-311\\Lib\\site-packages\\pytorch_tabnet\\callbacks.py:172: UserWarning: Best weights from best epoch are automatically used!\n",
      "  warnings.warn(wrn_msg)\n",
      "d:\\apps\\miniconda3\\envs\\conda-env-311\\Lib\\site-packages\\pytorch_tabnet\\abstract_model.py:687: UserWarning: No early stopping will be performed, last training weights will be used.\n",
      "  warnings.warn(wrn_msg)\n"
     ]
    },
    {
     "name": "stdout",
     "output_type": "stream",
     "text": [
      "▶ Fine-tuning...\n"
     ]
    },
    {
     "name": "stderr",
     "output_type": "stream",
     "text": [
      "d:\\apps\\miniconda3\\envs\\conda-env-311\\Lib\\site-packages\\pytorch_tabnet\\abstract_model.py:248: UserWarning: Loading weights from unsupervised pretraining\n",
      "  warnings.warn(\"Loading weights from unsupervised pretraining\")\n"
     ]
    },
    {
     "name": "stdout",
     "output_type": "stream",
     "text": [
      "\n",
      "Early stopping occurred at epoch 58 with best_epoch = 48 and best_val_0_mae = 0.20356\n",
      "\n",
      "🔁 Fold 4/5\n",
      "▶ Pretraining...\n"
     ]
    },
    {
     "name": "stderr",
     "output_type": "stream",
     "text": [
      "d:\\apps\\miniconda3\\envs\\conda-env-311\\Lib\\site-packages\\pytorch_tabnet\\callbacks.py:172: UserWarning: Best weights from best epoch are automatically used!\n",
      "  warnings.warn(wrn_msg)\n",
      "d:\\apps\\miniconda3\\envs\\conda-env-311\\Lib\\site-packages\\pytorch_tabnet\\abstract_model.py:687: UserWarning: No early stopping will be performed, last training weights will be used.\n",
      "  warnings.warn(wrn_msg)\n"
     ]
    },
    {
     "name": "stdout",
     "output_type": "stream",
     "text": [
      "▶ Fine-tuning...\n"
     ]
    },
    {
     "name": "stderr",
     "output_type": "stream",
     "text": [
      "d:\\apps\\miniconda3\\envs\\conda-env-311\\Lib\\site-packages\\pytorch_tabnet\\abstract_model.py:248: UserWarning: Loading weights from unsupervised pretraining\n",
      "  warnings.warn(\"Loading weights from unsupervised pretraining\")\n"
     ]
    },
    {
     "name": "stdout",
     "output_type": "stream",
     "text": [
      "\n",
      "Early stopping occurred at epoch 71 with best_epoch = 61 and best_val_0_mae = 0.20185\n",
      "\n",
      "🔁 Fold 5/5\n",
      "▶ Pretraining...\n"
     ]
    },
    {
     "name": "stderr",
     "output_type": "stream",
     "text": [
      "d:\\apps\\miniconda3\\envs\\conda-env-311\\Lib\\site-packages\\pytorch_tabnet\\callbacks.py:172: UserWarning: Best weights from best epoch are automatically used!\n",
      "  warnings.warn(wrn_msg)\n",
      "d:\\apps\\miniconda3\\envs\\conda-env-311\\Lib\\site-packages\\pytorch_tabnet\\abstract_model.py:687: UserWarning: No early stopping will be performed, last training weights will be used.\n",
      "  warnings.warn(wrn_msg)\n"
     ]
    },
    {
     "name": "stdout",
     "output_type": "stream",
     "text": [
      "▶ Fine-tuning...\n"
     ]
    },
    {
     "name": "stderr",
     "output_type": "stream",
     "text": [
      "d:\\apps\\miniconda3\\envs\\conda-env-311\\Lib\\site-packages\\pytorch_tabnet\\abstract_model.py:248: UserWarning: Loading weights from unsupervised pretraining\n",
      "  warnings.warn(\"Loading weights from unsupervised pretraining\")\n"
     ]
    },
    {
     "name": "stdout",
     "output_type": "stream",
     "text": [
      "\n",
      "Early stopping occurred at epoch 47 with best_epoch = 37 and best_val_0_mae = 0.20626\n",
      "\n",
      "✅ 모든 fold 모델 학습 완료!\n"
     ]
    },
    {
     "name": "stderr",
     "output_type": "stream",
     "text": [
      "d:\\apps\\miniconda3\\envs\\conda-env-311\\Lib\\site-packages\\pytorch_tabnet\\callbacks.py:172: UserWarning: Best weights from best epoch are automatically used!\n",
      "  warnings.warn(wrn_msg)\n"
     ]
    }
   ],
   "source": [
    "# 타겟 지정\n",
    "target = train['성공확률']  \n",
    "X = train[features]\n",
    "y = target\n",
    "\n",
    "# KFold 설정\n",
    "N_FOLDS = 5\n",
    "kf = KFold(n_splits=N_FOLDS, shuffle=True, random_state=42)\n",
    "\n",
    "models = [] # 모델 저장 리스트\n",
    "cv_scores = []\n",
    "\n",
    "for fold, (train_idx, valid_idx) in enumerate(kf.split(X)):\n",
    "    print(f\"\\n🔁 Fold {fold+1}/{N_FOLDS}\")\n",
    "    \n",
    "    X_train = X.iloc[train_idx].values\n",
    "    y_train = y.iloc[train_idx].values.reshape(-1, 1)\n",
    "    \n",
    "    X_valid = X.iloc[valid_idx].values\n",
    "    y_valid = y.iloc[valid_idx].values.reshape(-1, 1)\n",
    "    \n",
    "    # 비지도 사전학습\n",
    "    print(\"▶ Pretraining...\")\n",
    "\n",
    "    pretrainer = TabNetPretrainer(\n",
    "        cat_idxs=cat_idxs,\n",
    "        cat_dims=cat_dims,\n",
    "        seed=42,\n",
    "        verbose=0\n",
    "    )\n",
    "\n",
    "    pretrainer.fit(\n",
    "        X_train=X_train,\n",
    "        max_epochs=100,\n",
    "        batch_size=512,\n",
    "        virtual_batch_size=64\n",
    "    )\n",
    "\n",
    "    # 지도 학습 \n",
    "    print(\"▶ Fine-tuning...\")\n",
    "    model = TabNetRegressor(\n",
    "        cat_idxs=cat_idxs,\n",
    "        cat_dims=cat_dims,\n",
    "        seed=42,\n",
    "        verbose=0,\n",
    "        optimizer_fn=torch.optim.AdamW \n",
    "    )\n",
    "\n",
    "    model.fit(\n",
    "        X_train=X_train, y_train=y_train,\n",
    "        eval_set=[(X_valid, y_valid)],\n",
    "        from_unsupervised=pretrainer,\n",
    "        eval_metric=['mae'],\n",
    "        max_epochs=100,\n",
    "        patience=10\n",
    "    )\n",
    "\n",
    "    # 모델을 메모리에 저장\n",
    "    models.append(model)\n",
    "    cv_scores.append(model.best_cost)\n",
    "\n",
    "print(\"\\n✅ 모든 fold 모델 학습 완료!\")"
   ]
  },
  {
   "cell_type": "code",
   "execution_count": 28,
   "id": "5283559d",
   "metadata": {},
   "outputs": [
    {
     "name": "stdout",
     "output_type": "stream",
     "text": [
      "Predict with fold 1\n",
      "Predict with fold 2\n",
      "Predict with fold 3\n",
      "Predict with fold 4\n",
      "Predict with fold 5\n"
     ]
    }
   ],
   "source": [
    "# 저장된 모델들로 예측\n",
    "predictions_list = []\n",
    "\n",
    "for fold, model in enumerate(models):\n",
    "    print(f\"Predict with fold {fold+1}\")\n",
    "    preds = model.predict(test[features].values)\n",
    "    predictions_list.append(preds)\n",
    "\n",
    "# 평균 예측\n",
    "final_predictions = np.mean(predictions_list, axis=0)"
   ]
  },
  {
   "cell_type": "code",
   "execution_count": 29,
   "id": "29949f00",
   "metadata": {},
   "outputs": [],
   "source": [
    "sample_submission['성공확률'] = final_predictions\n",
    "sample_submission.to_csv('data_files/submission6.csv', index = False, encoding = 'utf-8-sig')"
   ]
  }
 ],
 "metadata": {
  "kernelspec": {
   "display_name": "conda-env-311",
   "language": "python",
   "name": "python3"
  },
  "language_info": {
   "codemirror_mode": {
    "name": "ipython",
    "version": 3
   },
   "file_extension": ".py",
   "mimetype": "text/x-python",
   "name": "python",
   "nbconvert_exporter": "python",
   "pygments_lexer": "ipython3",
   "version": "3.11.11"
  }
 },
 "nbformat": 4,
 "nbformat_minor": 5
}
