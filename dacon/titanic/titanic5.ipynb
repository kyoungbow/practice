{
 "cells": [
  {
   "cell_type": "code",
   "execution_count": 1,
   "id": "a13ab9cc",
   "metadata": {},
   "outputs": [],
   "source": [
    "import pandas as pd\n",
    "import numpy as np\n",
    "\n",
    "from sklearn.preprocessing import LabelEncoder\n",
    "from sklearn.model_selection import KFold\n",
    "\n",
    "import torch\n",
    "from pytorch_tabnet.pretraining import TabNetPretrainer\n",
    "from pytorch_tabnet.tab_model import TabNetRegressor\n",
    "\n",
    "from sklearn.linear_model import LinearRegression\n",
    "from sklearn.model_selection import train_test_split\n"
   ]
  },
  {
   "cell_type": "code",
   "execution_count": 2,
   "id": "2c4d7c90",
   "metadata": {},
   "outputs": [],
   "source": [
    "train = pd.read_csv('data_files/train.csv')\n",
    "test = pd.read_csv('data_files/test.csv')\n",
    "sample_submission = pd.read_csv('data_files/sample_submission.csv')"
   ]
  },
  {
   "cell_type": "code",
   "execution_count": 3,
   "id": "dfb5f892",
   "metadata": {},
   "outputs": [],
   "source": [
    "train = train.drop(columns=['ID'], axis = 1)\n",
    "test = test.drop(columns=['ID'], axis = 1)"
   ]
  },
  {
   "cell_type": "code",
   "execution_count": null,
   "id": "8b71cdc7",
   "metadata": {},
   "outputs": [],
   "source": [
    "train['설립연도'] =train['설립연도'].astype('object')\n",
    "test['설립연도'] =test['설립연도'].astype('object')\n",
    "\n",
    "category_features = ['설립연도','국가','분야','투자단계','기업가치(백억원)']\n",
    "numeric_features = ['직원 수','고객수(백만명)','총 투자금(억원)','연매출(억원)','SNS 팔로워 수(백만명)']\n",
    "bool_features = ['인수여부','상장여부']\n",
    "\n",
    "encoders = {}\n",
    "\n",
    "# 불리언 값을 0과 1로 변환 ('Yes' → 1, 'No' → 0 으로 변환)\n",
    "bool_map = {'Yes': 1, 'No': 0}\n",
    "\n",
    "for feature in bool_features:\n",
    "    train[feature] = train[feature].map(bool_map)\n",
    "    test[feature] = test[feature].map(bool_map)\n",
    "\n"
   ]
  },
  {
   "cell_type": "code",
   "execution_count": null,
   "id": "9e634b20",
   "metadata": {},
   "outputs": [
    {
     "name": "stdout",
     "output_type": "stream",
     "text": [
      "기업가치(백억원)\n",
      "3500-4500    1848\n",
      "4500-6000     679\n",
      "2500-3500     635\n",
      "1500-2500     621\n",
      "6000이상        593\n",
      "Name: count, dtype: int64\n"
     ]
    }
   ],
   "source": [
    "\n",
    "# 1. '기업가치(백억원)' 전처리 함수 정의\n",
    "def convert_value(value):\n",
    "    if isinstance(value, str):\n",
    "        if '이상' in value:\n",
    "            return 6000\n",
    "        elif '-' in value:\n",
    "            start, end = value.split('-')\n",
    "            return (float(start) + float(end)) / 2\n",
    "    return float(value)\n",
    "\n",
    "# 2. '기업가치(백억원)' 범주화 함수 정의\n",
    "def categorize_value(value):\n",
    "    if value < 2500:\n",
    "        return '1500-2500'\n",
    "    elif value < 3500:\n",
    "        return '2500-3500'\n",
    "    elif value < 4500:\n",
    "        return '3500-4500'\n",
    "    elif value < 6000:\n",
    "        return '4500-6000'\n",
    "    else:\n",
    "        return '6000이상'\n",
    "\n",
    "# 3. 복사해서 안전하게 처리\n",
    "train_copy = train.copy()\n",
    "\n",
    "# 4. 기업가치 숫자로 변환 (NaN 제외)\n",
    "train_copy.loc[train_copy['기업가치(백억원)'].notna(), '기업가치(백억원)'] = \\\n",
    "    train_copy.loc[train_copy['기업가치(백억원)'].notna(), '기업가치(백억원)'].apply(convert_value)\n",
    "\n",
    "# 5. 결측치 제거한 학습 데이터\n",
    "train_data = train_copy.dropna(subset=['기업가치(백억원)']).copy()\n",
    "\n",
    "# 6. 결측치 채우기\n",
    "train_data['직원 수'] = train_data['직원 수'].fillna(train_data['직원 수'].mean())\n",
    "\n",
    "# 7. 모델 학습\n",
    "features = ['총 투자금(억원)', '연매출(억원)', '직원 수', '설립연도']\n",
    "X_train = train_data[features]\n",
    "y_train = train_data['기업가치(백억원)'].astype(float)\n",
    "\n",
    "model = LinearRegression()\n",
    "model.fit(X_train, y_train)\n",
    "\n",
    "# 8. NaN 데이터 예측\n",
    "test_data = train_copy[train_copy['기업가치(백억원)'].isna()].copy()\n",
    "test_data['직원 수'] = test_data['직원 수'].fillna(train_data['직원 수'].mean())\n",
    "X_test = test_data[features]\n",
    "y_pred = model.predict(X_test)\n",
    "\n",
    "# 9. 예측값 넣기\n",
    "train_copy.loc[train_copy['기업가치(백억원)'].isna(), '기업가치(백억원)'] = y_pred\n",
    "\n",
    "# 10. 숫자 → 범주로 다시 변환\n",
    "train_copy['기업가치(백억원)'] = train_copy['기업가치(백억원)'].astype(float).apply(categorize_value)\n",
    "\n",
    "# ✅ 결과: train_copy 에서 기업가치 컬럼이 문자열 범주로 완성됨\n",
    "print(train_copy['기업가치(백억원)'].value_counts())\n",
    "\n"
   ]
  },
  {
   "cell_type": "code",
   "execution_count": null,
   "id": "26283687",
   "metadata": {},
   "outputs": [],
   "source": [
    "train['기업가치(백억원)'] = train_copy['기업가치(백억원)']\n"
   ]
  },
  {
   "cell_type": "code",
   "execution_count": 27,
   "id": "320a8ca2",
   "metadata": {},
   "outputs": [
    {
     "name": "stdout",
     "output_type": "stream",
     "text": [
      "기업가치(백억원)\n",
      "3500-4500    749\n",
      "4500-6000    292\n",
      "1500-2500    258\n",
      "2500-3500    247\n",
      "6000이상       209\n",
      "Name: count, dtype: int64\n"
     ]
    }
   ],
   "source": [
    "# test 데이터 복사\n",
    "test_copy = test.copy()\n",
    "\n",
    "# 1. 기업가치 컬럼 전처리\n",
    "def convert_value(value):\n",
    "    if isinstance(value, str):\n",
    "        if '이상' in value:\n",
    "            return 6000\n",
    "        elif '-' in value:\n",
    "            start, end = value.split('-')\n",
    "            return (float(start) + float(end)) / 2\n",
    "    return float(value)\n",
    "\n",
    "def categorize_value(value):\n",
    "    if value < 2500:\n",
    "        return '1500-2500'\n",
    "    elif value < 3500:\n",
    "        return '2500-3500'\n",
    "    elif value < 4500:\n",
    "        return '3500-4500'\n",
    "    elif value < 6000:\n",
    "        return '4500-6000'\n",
    "    else:\n",
    "        return '6000이상'\n",
    "\n",
    "# 2. 기존 값은 수치형으로 바꾸기\n",
    "test_copy.loc[test_copy['기업가치(백억원)'].notna(), '기업가치(백억원)'] = \\\n",
    "    test_copy.loc[test_copy['기업가치(백억원)'].notna(), '기업가치(백억원)'].apply(convert_value)\n",
    "\n",
    "# 3. 예측해야 할 샘플\n",
    "test_nan = test_copy[test_copy['기업가치(백억원)'].isna()].copy()\n",
    "\n",
    "# 4. 결측치 채우기 (train의 평균을 그대로 사용)\n",
    "test_nan['직원 수'] = test_nan['직원 수'].fillna(train_data['직원 수'].mean())\n",
    "\n",
    "# 5. 필요한 입력값 선택\n",
    "X_test = test_nan[['총 투자금(억원)', '연매출(억원)', '직원 수', '설립연도']]\n",
    "\n",
    "# 6. train에서 학습한 모델로 예측\n",
    "y_pred_test = model.predict(X_test)\n",
    "\n",
    "# 7. 예측 결과 채워넣기\n",
    "test_copy.loc[test_copy['기업가치(백억원)'].isna(), '기업가치(백억원)'] = y_pred_test\n",
    "\n",
    "# 8. 숫자 → 범주로 다시 변환\n",
    "test_copy['기업가치(백억원)'] = test_copy['기업가치(백억원)'].astype(float).apply(categorize_value)\n",
    "\n",
    "# ✅ 결과 확인\n",
    "print(test_copy['기업가치(백억원)'].value_counts())\n"
   ]
  },
  {
   "cell_type": "code",
   "execution_count": 29,
   "id": "de531920",
   "metadata": {},
   "outputs": [],
   "source": [
    "test['기업가치(백억원)'] = test_copy['기업가치(백억원)']"
   ]
  },
  {
   "cell_type": "code",
   "execution_count": 34,
   "id": "41b7254f",
   "metadata": {},
   "outputs": [],
   "source": [
    "most_common_field = train['분야'].mode()[0]\n",
    "train['분야'] = train['분야'].fillna(most_common_field)\n",
    "test['분야'] = train['분야'].fillna(most_common_field)"
   ]
  },
  {
   "cell_type": "code",
   "execution_count": 35,
   "id": "af731280",
   "metadata": {},
   "outputs": [],
   "source": [
    "staff_means_by_field = train.groupby('분야')['직원 수'].mean()\n",
    "\n",
    "train['직원 수'] = train.groupby('분야')['직원 수'].transform(lambda x: x.fillna(x.mean()))\n",
    "\n",
    "def fill_staff_by_field(row):\n",
    "    if pd.isna(row['직원 수']):\n",
    "        return staff_means_by_field.get(row['분야'], train['직원 수'].mean())\n",
    "    return row['직원 수']\n",
    "\n",
    "test['직원 수'] = test.apply(fill_staff_by_field, axis=1)\n"
   ]
  },
  {
   "cell_type": "code",
   "execution_count": 36,
   "id": "fd177eea",
   "metadata": {},
   "outputs": [],
   "source": [
    "valid = train.dropna(subset=['고객수(백만명)'])\n",
    "X_train = valid[['연매출(억원)', '총 투자금(억원)']]\n",
    "y_train = valid['고객수(백만명)']\n",
    "\n",
    "model = LinearRegression()\n",
    "model.fit(X_train, y_train)\n",
    "\n",
    "# 예측할 결측치 행\n",
    "missing = train[train['고객수(백만명)'].isna()]\n",
    "X_missing = missing[['연매출(억원)', '총 투자금(억원)']]\n",
    "y_pred = model.predict(X_missing)\n",
    "\n",
    "# 채워 넣기\n",
    "train.loc[train['고객수(백만명)'].isna(), '고객수(백만명)'] = y_pred\n",
    "\n",
    "missing_test = test[test['고객수(백만명)'].isna()]\n",
    "X_missing_test = missing_test[['연매출(억원)', '총 투자금(억원)']]\n",
    "y_pred_test = model.predict(X_missing_test)\n",
    "\n",
    "test.loc[test['고객수(백만명)'].isna(), '고객수(백만명)'] = y_pred_test"
   ]
  },
  {
   "cell_type": "code",
   "execution_count": null,
   "id": "e22d46f2",
   "metadata": {},
   "outputs": [
    {
     "name": "stdout",
     "output_type": "stream",
     "text": [
      "\n",
      "🔁 Fold 1/5\n",
      "▶ Pretraining...\n"
     ]
    },
    {
     "name": "stderr",
     "output_type": "stream",
     "text": [
      "d:\\apps\\miniconda3\\envs\\conda-env-311\\Lib\\site-packages\\pytorch_tabnet\\abstract_model.py:687: UserWarning: No early stopping will be performed, last training weights will be used.\n",
      "  warnings.warn(wrn_msg)\n"
     ]
    },
    {
     "name": "stdout",
     "output_type": "stream",
     "text": [
      "▶ Fine-tuning...\n"
     ]
    },
    {
     "name": "stderr",
     "output_type": "stream",
     "text": [
      "d:\\apps\\miniconda3\\envs\\conda-env-311\\Lib\\site-packages\\pytorch_tabnet\\abstract_model.py:248: UserWarning: Loading weights from unsupervised pretraining\n",
      "  warnings.warn(\"Loading weights from unsupervised pretraining\")\n"
     ]
    },
    {
     "name": "stdout",
     "output_type": "stream",
     "text": [
      "\n",
      "Early stopping occurred at epoch 32 with best_epoch = 22 and best_val_0_mae = 0.20864\n",
      "\n",
      "🔁 Fold 2/5\n",
      "▶ Pretraining...\n"
     ]
    },
    {
     "name": "stderr",
     "output_type": "stream",
     "text": [
      "d:\\apps\\miniconda3\\envs\\conda-env-311\\Lib\\site-packages\\pytorch_tabnet\\callbacks.py:172: UserWarning: Best weights from best epoch are automatically used!\n",
      "  warnings.warn(wrn_msg)\n",
      "d:\\apps\\miniconda3\\envs\\conda-env-311\\Lib\\site-packages\\pytorch_tabnet\\abstract_model.py:687: UserWarning: No early stopping will be performed, last training weights will be used.\n",
      "  warnings.warn(wrn_msg)\n"
     ]
    },
    {
     "name": "stdout",
     "output_type": "stream",
     "text": [
      "▶ Fine-tuning...\n"
     ]
    },
    {
     "name": "stderr",
     "output_type": "stream",
     "text": [
      "d:\\apps\\miniconda3\\envs\\conda-env-311\\Lib\\site-packages\\pytorch_tabnet\\abstract_model.py:248: UserWarning: Loading weights from unsupervised pretraining\n",
      "  warnings.warn(\"Loading weights from unsupervised pretraining\")\n"
     ]
    },
    {
     "name": "stdout",
     "output_type": "stream",
     "text": [
      "\n",
      "Early stopping occurred at epoch 68 with best_epoch = 58 and best_val_0_mae = 0.20425\n",
      "\n",
      "🔁 Fold 3/5\n",
      "▶ Pretraining...\n"
     ]
    },
    {
     "name": "stderr",
     "output_type": "stream",
     "text": [
      "d:\\apps\\miniconda3\\envs\\conda-env-311\\Lib\\site-packages\\pytorch_tabnet\\callbacks.py:172: UserWarning: Best weights from best epoch are automatically used!\n",
      "  warnings.warn(wrn_msg)\n",
      "d:\\apps\\miniconda3\\envs\\conda-env-311\\Lib\\site-packages\\pytorch_tabnet\\abstract_model.py:687: UserWarning: No early stopping will be performed, last training weights will be used.\n",
      "  warnings.warn(wrn_msg)\n"
     ]
    },
    {
     "name": "stdout",
     "output_type": "stream",
     "text": [
      "▶ Fine-tuning...\n"
     ]
    },
    {
     "name": "stderr",
     "output_type": "stream",
     "text": [
      "d:\\apps\\miniconda3\\envs\\conda-env-311\\Lib\\site-packages\\pytorch_tabnet\\abstract_model.py:248: UserWarning: Loading weights from unsupervised pretraining\n",
      "  warnings.warn(\"Loading weights from unsupervised pretraining\")\n"
     ]
    },
    {
     "name": "stdout",
     "output_type": "stream",
     "text": [
      "\n",
      "Early stopping occurred at epoch 35 with best_epoch = 25 and best_val_0_mae = 0.20348\n",
      "\n",
      "🔁 Fold 4/5\n",
      "▶ Pretraining...\n"
     ]
    },
    {
     "name": "stderr",
     "output_type": "stream",
     "text": [
      "d:\\apps\\miniconda3\\envs\\conda-env-311\\Lib\\site-packages\\pytorch_tabnet\\callbacks.py:172: UserWarning: Best weights from best epoch are automatically used!\n",
      "  warnings.warn(wrn_msg)\n",
      "d:\\apps\\miniconda3\\envs\\conda-env-311\\Lib\\site-packages\\pytorch_tabnet\\abstract_model.py:687: UserWarning: No early stopping will be performed, last training weights will be used.\n",
      "  warnings.warn(wrn_msg)\n"
     ]
    },
    {
     "name": "stdout",
     "output_type": "stream",
     "text": [
      "▶ Fine-tuning...\n"
     ]
    },
    {
     "name": "stderr",
     "output_type": "stream",
     "text": [
      "d:\\apps\\miniconda3\\envs\\conda-env-311\\Lib\\site-packages\\pytorch_tabnet\\abstract_model.py:248: UserWarning: Loading weights from unsupervised pretraining\n",
      "  warnings.warn(\"Loading weights from unsupervised pretraining\")\n"
     ]
    },
    {
     "name": "stdout",
     "output_type": "stream",
     "text": [
      "\n",
      "Early stopping occurred at epoch 39 with best_epoch = 29 and best_val_0_mae = 0.20388\n",
      "\n",
      "🔁 Fold 5/5\n",
      "▶ Pretraining...\n"
     ]
    },
    {
     "name": "stderr",
     "output_type": "stream",
     "text": [
      "d:\\apps\\miniconda3\\envs\\conda-env-311\\Lib\\site-packages\\pytorch_tabnet\\callbacks.py:172: UserWarning: Best weights from best epoch are automatically used!\n",
      "  warnings.warn(wrn_msg)\n",
      "d:\\apps\\miniconda3\\envs\\conda-env-311\\Lib\\site-packages\\pytorch_tabnet\\abstract_model.py:687: UserWarning: No early stopping will be performed, last training weights will be used.\n",
      "  warnings.warn(wrn_msg)\n"
     ]
    },
    {
     "name": "stdout",
     "output_type": "stream",
     "text": [
      "▶ Fine-tuning...\n"
     ]
    },
    {
     "name": "stderr",
     "output_type": "stream",
     "text": [
      "d:\\apps\\miniconda3\\envs\\conda-env-311\\Lib\\site-packages\\pytorch_tabnet\\abstract_model.py:248: UserWarning: Loading weights from unsupervised pretraining\n",
      "  warnings.warn(\"Loading weights from unsupervised pretraining\")\n"
     ]
    },
    {
     "name": "stdout",
     "output_type": "stream",
     "text": [
      "\n",
      "Early stopping occurred at epoch 66 with best_epoch = 56 and best_val_0_mae = 0.2066\n",
      "\n",
      "✅ 모든 fold 모델 학습 완료!\n",
      "🔥 평균 MAE: 0.2054\n"
     ]
    },
    {
     "name": "stderr",
     "output_type": "stream",
     "text": [
      "d:\\apps\\miniconda3\\envs\\conda-env-311\\Lib\\site-packages\\pytorch_tabnet\\callbacks.py:172: UserWarning: Best weights from best epoch are automatically used!\n",
      "  warnings.warn(wrn_msg)\n"
     ]
    }
   ],
   "source": [
    "\n",
    "\n",
    "# -------------------------\n",
    "# 1. 범주형 변수 라벨 인코딩\n",
    "# -------------------------\n",
    "category_features = ['설립연도', '국가', '분야', '투자단계', '기업가치(백억원)']  # 수정한 부분\n",
    "\n",
    "# LabelEncoder를 컬럼별로 따로 관리\n",
    "label_encoders = {}\n",
    "\n",
    "# train과 test 둘 다 변환\n",
    "for col in category_features:\n",
    "    le = LabelEncoder()\n",
    "    train[col] = le.fit_transform(train[col])\n",
    "    test[col] = le.transform(test[col])  # 주의: test는 transform만\n",
    "    label_encoders[col] = le\n",
    "\n",
    "# -------------------------\n",
    "# 2. Feature 준비\n",
    "# -------------------------\n",
    "# 타겟 컬럼 제외한 feature 리스트\n",
    "features = [col for col in train.columns if col != '성공확률']\n",
    "\n",
    "# 범주형 feature의 index, 차원\n",
    "cat_idxs = [features.index(col) for col in category_features]\n",
    "cat_dims = [train[col].nunique() for col in category_features]\n",
    "\n",
    "# X, y 준비\n",
    "X = train[features]\n",
    "y = train['성공확률']\n",
    "\n",
    "# -------------------------\n",
    "# 3. KFold + Pretraining + Fine-tuning\n",
    "# -------------------------\n",
    "N_FOLDS = 5\n",
    "kf = KFold(n_splits=N_FOLDS, shuffle=True, random_state=42)\n",
    "\n",
    "models = []      # 학습된 모델 저장\n",
    "cv_scores = []   # fold별 best cost 저장\n",
    "\n",
    "for fold, (train_idx, valid_idx) in enumerate(kf.split(X)):\n",
    "    print(f\"\\n🔁 Fold {fold+1}/{N_FOLDS}\")\n",
    "\n",
    "    # Fold별 데이터 분리\n",
    "    X_train = X.iloc[train_idx].values\n",
    "    y_train = y.iloc[train_idx].values.reshape(-1, 1)\n",
    "\n",
    "    X_valid = X.iloc[valid_idx].values\n",
    "    y_valid = y.iloc[valid_idx].values.reshape(-1, 1)\n",
    "\n",
    "    # 비지도 사전학습\n",
    "    print(\"▶ Pretraining...\")\n",
    "    pretrainer = TabNetPretrainer(\n",
    "        cat_idxs=cat_idxs,\n",
    "        cat_dims=cat_dims,\n",
    "        seed=42,\n",
    "        verbose=0\n",
    "    )\n",
    "\n",
    "    pretrainer.fit(\n",
    "        X_train=X_train,\n",
    "        max_epochs=100,\n",
    "        batch_size=512,\n",
    "        virtual_batch_size=64\n",
    "    )\n",
    "\n",
    "    # 지도학습 (Fine-tuning)\n",
    "    print(\"▶ Fine-tuning...\")\n",
    "    model = TabNetRegressor(\n",
    "        cat_idxs=cat_idxs,\n",
    "        cat_dims=cat_dims,\n",
    "        seed=42,\n",
    "        verbose=0,\n",
    "        optimizer_fn=torch.optim.AdamW\n",
    "    )\n",
    "\n",
    "    model.fit(\n",
    "        X_train=X_train, y_train=y_train,\n",
    "        eval_set=[(X_valid, y_valid)],\n",
    "        from_unsupervised=pretrainer,\n",
    "        eval_metric=['mae'],\n",
    "        max_epochs=100,\n",
    "        patience=10\n",
    "    )\n",
    "\n",
    "    # 모델과 score 저장\n",
    "    models.append(model)\n",
    "    cv_scores.append(model.best_cost)\n",
    "\n",
    "print(\"\\n✅ 모든 fold 모델 학습 완료!\")\n",
    "\n",
    "# 최종 Cross Validation 성능 출력\n",
    "print(f\"🔥 평균 MAE: {np.mean(cv_scores):.4f}\")\n"
   ]
  },
  {
   "cell_type": "code",
   "execution_count": 41,
   "id": "5283559d",
   "metadata": {},
   "outputs": [
    {
     "name": "stdout",
     "output_type": "stream",
     "text": [
      "Predict with fold 1\n",
      "Predict with fold 2\n",
      "Predict with fold 3\n",
      "Predict with fold 4\n",
      "Predict with fold 5\n"
     ]
    }
   ],
   "source": [
    "# 저장된 모델들로 예측\n",
    "predictions_list = []\n",
    "\n",
    "for fold, model in enumerate(models):\n",
    "    print(f\"Predict with fold {fold+1}\")\n",
    "    preds = model.predict(test[features].values)\n",
    "    predictions_list.append(preds)\n",
    "\n",
    "# 평균 예측\n",
    "final_predictions = np.mean(predictions_list, axis=0)\n",
    "\n",
    "# (선택) 0~1 범위로 클리핑\n",
    "final_predictions = np.clip(final_predictions, 0, 1)\n",
    "\n",
    "sample_submission['성공확률'] = final_predictions\n",
    "sample_submission.to_csv('data_files/submission7.csv', index=False, encoding='utf-8-sig')\n"
   ]
  },
  {
   "cell_type": "code",
   "execution_count": 42,
   "id": "29949f00",
   "metadata": {},
   "outputs": [
    {
     "name": "stdout",
     "output_type": "stream",
     "text": [
      "Predict with fold 1\n",
      "Predict with fold 2\n",
      "Predict with fold 3\n",
      "Predict with fold 4\n",
      "Predict with fold 5\n"
     ]
    }
   ],
   "source": [
    "# 저장된 모델들로 예측\n",
    "predictions_list = []\n",
    "fold_scores = []\n",
    "\n",
    "for fold, model in enumerate(models):\n",
    "    print(f\"Predict with fold {fold+1}\")\n",
    "    preds = model.predict(test[features].values)\n",
    "    predictions_list.append(preds)\n",
    "    fold_scores.append(model.best_cost)  # fold마다 validation MAE 기록\n",
    "\n",
    "# fold 별 MAE가 작을수록 weight를 크게\n",
    "fold_scores = np.array(fold_scores)\n",
    "fold_weights = 1 / (fold_scores + 1e-6)  # 0 나누기 방지용 1e-6 추가\n",
    "fold_weights = fold_weights / fold_weights.sum()  # 합이 1이 되게 정규화\n",
    "\n",
    "# 가중 평균\n",
    "final_predictions = np.average(predictions_list, axis=0, weights=fold_weights)\n",
    "\n",
    "# 0~1 범위로 클리핑\n",
    "final_predictions = np.clip(final_predictions, 0, 1)\n",
    "\n",
    "# 저장\n",
    "sample_submission['성공확률'] = final_predictions\n",
    "sample_submission.to_csv('data_files/submission8.csv', index=False, encoding='utf-8-sig')"
   ]
  }
 ],
 "metadata": {
  "kernelspec": {
   "display_name": "conda-env-311",
   "language": "python",
   "name": "python3"
  },
  "language_info": {
   "codemirror_mode": {
    "name": "ipython",
    "version": 3
   },
   "file_extension": ".py",
   "mimetype": "text/x-python",
   "name": "python",
   "nbconvert_exporter": "python",
   "pygments_lexer": "ipython3",
   "version": "3.11.11"
  }
 },
 "nbformat": 4,
 "nbformat_minor": 5
}
